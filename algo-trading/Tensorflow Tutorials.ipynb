{
 "cells": [
  {
   "cell_type": "code",
   "execution_count": 20,
   "metadata": {},
   "outputs": [
    {
     "output_type": "stream",
     "name": "stdout",
     "text": "WARNING:tensorflow:From C:\\Users\\dubskiski\\AppData\\Local\\Programs\\Python\\Python37\\lib\\site-packages\\tensorflow_core\\python\\compat\\v2_compat.py:88: disable_resource_variables (from tensorflow.python.ops.variable_scope) is deprecated and will be removed in a future version.\nInstructions for updating:\nnon-resource variables are not supported in the long term\n"
    }
   ],
   "source": [
    "import tensorflow.compat.v1 as tf\n",
    "tf.disable_v2_behavior()\n"
   ]
  },
  {
   "cell_type": "code",
   "execution_count": 15,
   "metadata": {},
   "outputs": [
    {
     "output_type": "stream",
     "name": "stdout",
     "text": "Tensor(\"const_1:0\", shape=(1,), dtype=float32)\n"
    }
   ],
   "source": [
    "const_1 =  tf.constant(value=[5.0],dtype=tf.float32,shape=(1,),name='const_1')\n",
    "print(const_1)"
   ]
  },
  {
   "cell_type": "code",
   "execution_count": 18,
   "metadata": {},
   "outputs": [
    {
     "output_type": "stream",
     "name": "stdout",
     "text": "<tf.Variable 'var_1_1:0' shape=(1,) dtype=float32>\n"
    }
   ],
   "source": [
    "var_1 = tf.Variable(initial_value=[1.0],\n",
    "                    trainable=True,\n",
    "                    validate_shape=True,\n",
    "                    caching_device=None,\n",
    "                    name='var_1',\n",
    "                    variable_def=None,\n",
    "                    dtype=tf.float32,\n",
    "                    shape=(1,),\n",
    "                    import_scope=None)\n",
    "print(var_1)"
   ]
  },
  {
   "cell_type": "code",
   "execution_count": 19,
   "metadata": {},
   "outputs": [
    {
     "output_type": "stream",
     "name": "stdout",
     "text": "Tensor(\"placeholder_1:0\", shape=(1,), dtype=float32)\n"
    }
   ],
   "source": [
    "placeholder_1 = tf.placeholder(dtype=tf.float32, shape=(1,),name='placeholder_1')\n",
    "print(placeholder_1)"
   ]
  },
  {
   "cell_type": "code",
   "execution_count": null,
   "metadata": {},
   "outputs": [],
   "source": []
  }
 ],
 "metadata": {
  "language_info": {
   "codemirror_mode": {
    "name": "ipython",
    "version": 3
   },
   "file_extension": ".py",
   "mimetype": "text/x-python",
   "name": "python",
   "nbconvert_exporter": "python",
   "pygments_lexer": "ipython3",
   "version": "3.7.7-final"
  },
  "orig_nbformat": 2,
  "kernelspec": {
   "name": "python37764bit174c2bc1a20445329768e9a138397482",
   "display_name": "Python 3.7.7 64-bit"
  }
 },
 "nbformat": 4,
 "nbformat_minor": 2
}