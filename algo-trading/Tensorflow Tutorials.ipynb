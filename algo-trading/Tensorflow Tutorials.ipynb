{
 "cells": [
  {
   "cell_type": "code",
   "execution_count": null,
   "metadata": {},
   "outputs": [
    {
     "output_type": "error",
     "ename": "Error",
     "evalue": "Jupyter cannot be started. Error attempting to locate jupyter: Data Science libraries jupyter and notebook are not installed in interpreter Python 3.7.7 64-bit.",
     "traceback": [
      "Error: Jupyter cannot be started. Error attempting to locate jupyter: Data Science libraries jupyter and notebook are not installed in interpreter Python 3.7.7 64-bit.",
      "at C.startServer (c:\\Users\\dubskiski\\.vscode\\extensions\\ms-python.python-2020.4.76186\\out\\client\\extension.js:75:829561)",
      "at C.createServer (c:\\Users\\dubskiski\\.vscode\\extensions\\ms-python.python-2020.4.76186\\out\\client\\extension.js:75:829004)",
      "at C.ensureServerAndNotebookImpl (c:\\Users\\dubskiski\\.vscode\\extensions\\ms-python.python-2020.4.76186\\out\\client\\extension.js:1:864693)",
      "at C.ensureServerAndNotebook (c:\\Users\\dubskiski\\.vscode\\extensions\\ms-python.python-2020.4.76186\\out\\client\\extension.js:1:864383)",
      "at C.clearResult (c:\\Users\\dubskiski\\.vscode\\extensions\\ms-python.python-2020.4.76186\\out\\client\\extension.js:1:860450)",
      "at C.reexecuteCell (c:\\Users\\dubskiski\\.vscode\\extensions\\ms-python.python-2020.4.76186\\out\\client\\extension.js:1:848720)",
      "at C.reexecuteCells (c:\\Users\\dubskiski\\.vscode\\extensions\\ms-python.python-2020.4.76186\\out\\client\\extension.js:1:845887)"
     ]
    }
   ],
   "source": [
    "import tensorflow as tf"
   ]
  },
  {
   "cell_type": "code",
   "execution_count": null,
   "metadata": {},
   "outputs": [],
   "source": []
  }
 ],
 "metadata": {
  "language_info": {
   "codemirror_mode": {
    "name": "ipython",
    "version": 3
   },
   "file_extension": ".py",
   "mimetype": "text/x-python",
   "name": "python",
   "nbconvert_exporter": "python",
   "pygments_lexer": "ipython3",
   "version": 3
  },
  "orig_nbformat": 2
 },
 "nbformat": 4,
 "nbformat_minor": 2
}