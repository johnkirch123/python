{
 "cells": [
  {
   "cell_type": "code",
   "execution_count": 3,
   "metadata": {},
   "outputs": [],
   "source": [
    "import pandas as pd\n",
    "strings = pd.Series(['a', 'b', 'c'])\n",
    "categories = pd.Series(['a', 'b', 'c'], dtype=\"category\")\n",
    "ints = pd.Series([1, 2, 3])\n",
    "floats = pd.Series([1.2, 3.4, 5.6])\n",
    "bools = pd.Series([True, False, True])\n",
    "dates = pd.Series([pd.to_datetime('31/12/2018')])\n",
    "df = pd.DataFrame({'s': strings, 'f': floats})\n"
   ]
  },
  {
   "cell_type": "code",
   "execution_count": 5,
   "metadata": {},
   "outputs": [
    {
     "name": "stdout",
     "output_type": "stream",
     "text": [
      "object\n",
      "category\n",
      "int64\n",
      "float64\n",
      "bool\n",
      "datetime64[ns]\n"
     ]
    }
   ],
   "source": [
    "print(strings.dtype)\n",
    "print(categories.dtype)\n",
    "print(ints.dtype)\n",
    "print(floats.dtype)\n",
    "print(bools.dtype)\n",
    "print(dates.dtype)"
   ]
  },
  {
   "cell_type": "code",
   "execution_count": 7,
   "metadata": {},
   "outputs": [
    {
     "data": {
      "text/plain": [
       "Timestamp('2018-12-31 00:00:00')"
      ]
     },
     "execution_count": 7,
     "metadata": {},
     "output_type": "execute_result"
    }
   ],
   "source": [
    "dates[0]"
   ]
  },
  {
   "cell_type": "code",
   "execution_count": 8,
   "metadata": {},
   "outputs": [
    {
     "name": "stdout",
     "output_type": "stream",
     "text": [
      "s     object\n",
      "f    float64\n",
      "dtype: object\n"
     ]
    }
   ],
   "source": [
    "print(df.dtypes)"
   ]
  },
  {
   "cell_type": "code",
   "execution_count": 11,
   "metadata": {},
   "outputs": [
    {
     "data": {
      "text/plain": [
       "0    5\n",
       "1    5\n",
       "2    5\n",
       "dtype: int64"
      ]
     },
     "execution_count": 11,
     "metadata": {},
     "output_type": "execute_result"
    }
   ],
   "source": [
    "single_series = pd.Series(5, index=[0, 1, 2])\n",
    "single_series"
   ]
  },
  {
   "cell_type": "code",
   "execution_count": 14,
   "metadata": {},
   "outputs": [
    {
     "data": {
      "text/plain": [
       "a    1\n",
       "b    2\n",
       "c    3\n",
       "dtype: int64"
      ]
     },
     "execution_count": 14,
     "metadata": {},
     "output_type": "execute_result"
    }
   ],
   "source": [
    "list_series = pd.Series([1, 2, 3], index=['a', 'b', 'c'])\n",
    "list_series"
   ]
  },
  {
   "cell_type": "code",
   "execution_count": 15,
   "metadata": {},
   "outputs": [
    {
     "data": {
      "text/plain": [
       "a    1\n",
       "b    2\n",
       "c    3\n",
       "dtype: int64"
      ]
     },
     "execution_count": 15,
     "metadata": {},
     "output_type": "execute_result"
    }
   ],
   "source": [
    "dict_series = pd.Series({'a': 1, 'b': 2, 'c': 3})\n",
    "dict_series"
   ]
  },
  {
   "cell_type": "code",
   "execution_count": 17,
   "metadata": {},
   "outputs": [
    {
     "data": {
      "text/plain": [
       "AAPL     200\n",
       "MSFT     120\n",
       "AMZN    1800\n",
       "dtype: int64"
      ]
     },
     "execution_count": 17,
     "metadata": {},
     "output_type": "execute_result"
    }
   ],
   "source": [
    "stock_data = pd.Series({'AAPL': 200, 'MSFT': 120, 'AMZN': 1800})\n",
    "stock_data"
   ]
  },
  {
   "cell_type": "code",
   "execution_count": 18,
   "metadata": {},
   "outputs": [
    {
     "data": {
      "text/plain": [
       "0    1\n",
       "1    2\n",
       "2    3\n",
       "dtype: int32"
      ]
     },
     "execution_count": 18,
     "metadata": {},
     "output_type": "execute_result"
    }
   ],
   "source": [
    "import numpy as np\n",
    "numpy_series = pd.Series(np.array([1, 2, 3]))\n",
    "numpy_series"
   ]
  },
  {
   "cell_type": "code",
   "execution_count": 19,
   "metadata": {},
   "outputs": [
    {
     "data": {
      "text/plain": [
       "AAPL     200\n",
       "MSFT     120\n",
       "AMZN    1800\n",
       "dtype: int64"
      ]
     },
     "execution_count": 19,
     "metadata": {},
     "output_type": "execute_result"
    }
   ],
   "source": [
    "stock_data"
   ]
  },
  {
   "cell_type": "code",
   "execution_count": 20,
   "metadata": {},
   "outputs": [
    {
     "data": {
      "text/plain": [
       "200"
      ]
     },
     "execution_count": 20,
     "metadata": {},
     "output_type": "execute_result"
    }
   ],
   "source": [
    "stock_data[0]"
   ]
  },
  {
   "cell_type": "code",
   "execution_count": 21,
   "metadata": {},
   "outputs": [
    {
     "data": {
      "text/plain": [
       "200"
      ]
     },
     "execution_count": 21,
     "metadata": {},
     "output_type": "execute_result"
    }
   ],
   "source": [
    "stock_data['AAPL']"
   ]
  },
  {
   "cell_type": "code",
   "execution_count": 22,
   "metadata": {},
   "outputs": [
    {
     "data": {
      "text/plain": [
       "AAPL    200\n",
       "MSFT    120\n",
       "dtype: int64"
      ]
     },
     "execution_count": 22,
     "metadata": {},
     "output_type": "execute_result"
    }
   ],
   "source": [
    "stock_data[0:2]"
   ]
  },
  {
   "cell_type": "code",
   "execution_count": 23,
   "metadata": {},
   "outputs": [
    {
     "data": {
      "text/plain": [
       "AAPL     200\n",
       "MSFT     120\n",
       "AMZN    1800\n",
       "dtype: int64"
      ]
     },
     "execution_count": 23,
     "metadata": {},
     "output_type": "execute_result"
    }
   ],
   "source": [
    "stock_data['AAPL':'AMZN']"
   ]
  },
  {
   "cell_type": "code",
   "execution_count": 25,
   "metadata": {},
   "outputs": [
    {
     "name": "stdout",
     "output_type": "stream",
     "text": [
      "120\n",
      "120\n"
     ]
    }
   ],
   "source": [
    "print(stock_data.get('MSFT'))\n",
    "print(stock_data.get(1))"
   ]
  },
  {
   "cell_type": "code",
   "execution_count": 26,
   "metadata": {},
   "outputs": [
    {
     "name": "stdout",
     "output_type": "stream",
     "text": [
      "1800\n",
      "120\n",
      "706.6666666666666\n"
     ]
    }
   ],
   "source": [
    "print(stock_data.max())\n",
    "print(stock_data.min())\n",
    "print(stock_data.mean())"
   ]
  },
  {
   "cell_type": "code",
   "execution_count": 27,
   "metadata": {},
   "outputs": [
    {
     "data": {
      "text/plain": [
       "3"
      ]
     },
     "execution_count": 27,
     "metadata": {},
     "output_type": "execute_result"
    }
   ],
   "source": [
    "stock_data.size"
   ]
  },
  {
   "cell_type": "code",
   "execution_count": 28,
   "metadata": {},
   "outputs": [
    {
     "data": {
      "text/plain": [
       "count       3.000000\n",
       "mean      706.666667\n",
       "std       947.698968\n",
       "min       120.000000\n",
       "25%       160.000000\n",
       "50%       200.000000\n",
       "75%      1000.000000\n",
       "max      1800.000000\n",
       "dtype: float64"
      ]
     },
     "execution_count": 28,
     "metadata": {},
     "output_type": "execute_result"
    }
   ],
   "source": [
    "stock_data.describe()"
   ]
  },
  {
   "cell_type": "code",
   "execution_count": 29,
   "metadata": {},
   "outputs": [
    {
     "data": {
      "text/plain": [
       "AAPL     200\n",
       "MSFT     120\n",
       "AMZN    1800\n",
       "dtype: int64"
      ]
     },
     "execution_count": 29,
     "metadata": {},
     "output_type": "execute_result"
    }
   ],
   "source": [
    "stock_data"
   ]
  },
  {
   "cell_type": "code",
   "execution_count": 30,
   "metadata": {},
   "outputs": [
    {
     "data": {
      "text/plain": [
       "AAPL     210\n",
       "MSFT     120\n",
       "AMZN    1800\n",
       "dtype: int64"
      ]
     },
     "execution_count": 30,
     "metadata": {},
     "output_type": "execute_result"
    }
   ],
   "source": [
    "stock_data[0] = 210\n",
    "stock_data"
   ]
  },
  {
   "cell_type": "code",
   "execution_count": 32,
   "metadata": {},
   "outputs": [
    {
     "data": {
      "text/plain": [
       "AAPL     210\n",
       "MSFT     115\n",
       "AMZN    1800\n",
       "dtype: int64"
      ]
     },
     "execution_count": 32,
     "metadata": {},
     "output_type": "execute_result"
    }
   ],
   "source": [
    "stock_data['MSFT'] = 115\n",
    "stock_data"
   ]
  },
  {
   "cell_type": "code",
   "execution_count": 33,
   "metadata": {},
   "outputs": [],
   "source": [
    "second_stock_data = pd.Series({'AMD': 27, 'NVDA': 190})"
   ]
  },
  {
   "cell_type": "code",
   "execution_count": 36,
   "metadata": {},
   "outputs": [],
   "source": [
    "stock_data = stock_data.append(second_stock_data)"
   ]
  },
  {
   "cell_type": "code",
   "execution_count": 37,
   "metadata": {},
   "outputs": [
    {
     "data": {
      "text/plain": [
       "AAPL     210\n",
       "MSFT     115\n",
       "AMZN    1800\n",
       "AMD       27\n",
       "NVDA     190\n",
       "dtype: int64"
      ]
     },
     "execution_count": 37,
     "metadata": {},
     "output_type": "execute_result"
    }
   ],
   "source": [
    "stock_data"
   ]
  },
  {
   "cell_type": "code",
   "execution_count": 38,
   "metadata": {},
   "outputs": [
    {
     "data": {
      "text/plain": [
       "27"
      ]
     },
     "execution_count": 38,
     "metadata": {},
     "output_type": "execute_result"
    }
   ],
   "source": [
    "stock_data.pop('AMD')"
   ]
  },
  {
   "cell_type": "code",
   "execution_count": 39,
   "metadata": {},
   "outputs": [
    {
     "data": {
      "text/plain": [
       "AAPL     210\n",
       "MSFT     115\n",
       "AMZN    1800\n",
       "NVDA     190\n",
       "dtype: int64"
      ]
     },
     "execution_count": 39,
     "metadata": {},
     "output_type": "execute_result"
    }
   ],
   "source": [
    "stock_data"
   ]
  },
  {
   "cell_type": "code",
   "execution_count": 40,
   "metadata": {},
   "outputs": [
    {
     "data": {
      "text/plain": [
       "[210, 115, 1800, 190]"
      ]
     },
     "execution_count": 40,
     "metadata": {},
     "output_type": "execute_result"
    }
   ],
   "source": [
    "stock_data.to_list()"
   ]
  },
  {
   "cell_type": "code",
   "execution_count": 41,
   "metadata": {},
   "outputs": [
    {
     "data": {
      "text/plain": [
       "{'AAPL': 210, 'MSFT': 115, 'AMZN': 1800, 'NVDA': 190}"
      ]
     },
     "execution_count": 41,
     "metadata": {},
     "output_type": "execute_result"
    }
   ],
   "source": [
    "stock_data.to_dict()"
   ]
  },
  {
   "cell_type": "code",
   "execution_count": 42,
   "metadata": {},
   "outputs": [
    {
     "data": {
      "text/plain": [
       "AAPL     210\n",
       "MSFT     115\n",
       "AMZN    1800\n",
       "NVDA     190\n",
       "dtype: int64"
      ]
     },
     "execution_count": 42,
     "metadata": {},
     "output_type": "execute_result"
    }
   ],
   "source": [
    "stock_data"
   ]
  },
  {
   "cell_type": "code",
   "execution_count": 43,
   "metadata": {},
   "outputs": [
    {
     "data": {
      "text/plain": [
       "MSFT     115\n",
       "NVDA     190\n",
       "AAPL     210\n",
       "AMZN    1800\n",
       "dtype: int64"
      ]
     },
     "execution_count": 43,
     "metadata": {},
     "output_type": "execute_result"
    }
   ],
   "source": [
    "stock_data.sort_values()"
   ]
  },
  {
   "cell_type": "code",
   "execution_count": 44,
   "metadata": {},
   "outputs": [
    {
     "data": {
      "text/plain": [
       "AAPL     210\n",
       "MSFT     115\n",
       "AMZN    1800\n",
       "NVDA     190\n",
       "dtype: int64"
      ]
     },
     "execution_count": 44,
     "metadata": {},
     "output_type": "execute_result"
    }
   ],
   "source": [
    "stock_data"
   ]
  },
  {
   "cell_type": "code",
   "execution_count": 45,
   "metadata": {},
   "outputs": [
    {
     "data": {
      "text/plain": [
       "AAPL     210\n",
       "AMZN    1800\n",
       "MSFT     115\n",
       "NVDA     190\n",
       "dtype: int64"
      ]
     },
     "execution_count": 45,
     "metadata": {},
     "output_type": "execute_result"
    }
   ],
   "source": [
    "stock_data.sort_index()"
   ]
  },
  {
   "cell_type": "code",
   "execution_count": 46,
   "metadata": {},
   "outputs": [
    {
     "name": "stdout",
     "output_type": "stream",
     "text": [
      "AAPL     270.90\n",
      "MSFT     148.35\n",
      "AMZN    2322.00\n",
      "NVDA     245.10\n",
      "dtype: float64\n"
     ]
    }
   ],
   "source": [
    "print(stock_data * 1.29)"
   ]
  },
  {
   "cell_type": "code",
   "execution_count": 47,
   "metadata": {},
   "outputs": [
    {
     "data": {
      "text/plain": [
       "AAPL     210\n",
       "MSFT     115\n",
       "AMZN    1800\n",
       "NVDA     190\n",
       "dtype: int64"
      ]
     },
     "execution_count": 47,
     "metadata": {},
     "output_type": "execute_result"
    }
   ],
   "source": [
    "stock_data"
   ]
  },
  {
   "cell_type": "code",
   "execution_count": 51,
   "metadata": {},
   "outputs": [
    {
     "data": {
      "text/plain": [
       "AAPL     220\n",
       "MSFT     127\n",
       "AMZN    1818\n",
       "NVDA     200\n",
       "dtype: int64"
      ]
     },
     "execution_count": 51,
     "metadata": {},
     "output_type": "execute_result"
    }
   ],
   "source": [
    "new_series = pd.Series({'AAPL': 10, 'MSFT': 12, 'AMZN': 18, 'NVDA': 10})\n",
    "stock_data.add(new_series)"
   ]
  },
  {
   "cell_type": "code",
   "execution_count": 52,
   "metadata": {},
   "outputs": [
    {
     "data": {
      "text/html": [
       "<div>\n",
       "<style scoped>\n",
       "    .dataframe tbody tr th:only-of-type {\n",
       "        vertical-align: middle;\n",
       "    }\n",
       "\n",
       "    .dataframe tbody tr th {\n",
       "        vertical-align: top;\n",
       "    }\n",
       "\n",
       "    .dataframe thead th {\n",
       "        text-align: right;\n",
       "    }\n",
       "</style>\n",
       "<table border=\"1\" class=\"dataframe\">\n",
       "  <thead>\n",
       "    <tr style=\"text-align: right;\">\n",
       "      <th></th>\n",
       "      <th>High</th>\n",
       "      <th>Low</th>\n",
       "      <th>Close</th>\n",
       "    </tr>\n",
       "  </thead>\n",
       "  <tbody>\n",
       "    <tr>\n",
       "      <td>0</td>\n",
       "      <td>2.0</td>\n",
       "      <td>1.5</td>\n",
       "      <td>2.0</td>\n",
       "    </tr>\n",
       "    <tr>\n",
       "      <td>1</td>\n",
       "      <td>2.2</td>\n",
       "      <td>1.7</td>\n",
       "      <td>2.1</td>\n",
       "    </tr>\n",
       "    <tr>\n",
       "      <td>2</td>\n",
       "      <td>2.4</td>\n",
       "      <td>2.1</td>\n",
       "      <td>2.2</td>\n",
       "    </tr>\n",
       "  </tbody>\n",
       "</table>\n",
       "</div>"
      ],
      "text/plain": [
       "   High  Low  Close\n",
       "0   2.0  1.5    2.0\n",
       "1   2.2  1.7    2.1\n",
       "2   2.4  2.1    2.2"
      ]
     },
     "execution_count": 52,
     "metadata": {},
     "output_type": "execute_result"
    }
   ],
   "source": [
    "stock_dataframe = pd.DataFrame({'High': [2, 2.2, 2.4], 'Low': [1.5, 1.7, 2.1], 'Close': [2, 2.1, 2.2]})\n",
    "stock_dataframe"
   ]
  },
  {
   "cell_type": "code",
   "execution_count": 53,
   "metadata": {},
   "outputs": [],
   "source": [
    "open_prices = pd.Series([5, 5.6, 5.2], index=['Jan 1', 'Jan 2', 'Jan 3'])\n",
    "close_prices = pd.Series([5.2, 5.7, 5.4], index=['Jan 2', 'Jan 3', 'Jan 4'])"
   ]
  },
  {
   "cell_type": "code",
   "execution_count": 57,
   "metadata": {},
   "outputs": [
    {
     "data": {
      "text/html": [
       "<div>\n",
       "<style scoped>\n",
       "    .dataframe tbody tr th:only-of-type {\n",
       "        vertical-align: middle;\n",
       "    }\n",
       "\n",
       "    .dataframe tbody tr th {\n",
       "        vertical-align: top;\n",
       "    }\n",
       "\n",
       "    .dataframe thead th {\n",
       "        text-align: right;\n",
       "    }\n",
       "</style>\n",
       "<table border=\"1\" class=\"dataframe\">\n",
       "  <thead>\n",
       "    <tr style=\"text-align: right;\">\n",
       "      <th></th>\n",
       "      <th>Open</th>\n",
       "      <th>Close</th>\n",
       "    </tr>\n",
       "  </thead>\n",
       "  <tbody>\n",
       "    <tr>\n",
       "      <td>Jan 1</td>\n",
       "      <td>5.0</td>\n",
       "      <td>NaN</td>\n",
       "    </tr>\n",
       "    <tr>\n",
       "      <td>Jan 2</td>\n",
       "      <td>5.6</td>\n",
       "      <td>5.2</td>\n",
       "    </tr>\n",
       "    <tr>\n",
       "      <td>Jan 3</td>\n",
       "      <td>5.2</td>\n",
       "      <td>5.7</td>\n",
       "    </tr>\n",
       "    <tr>\n",
       "      <td>Jan 4</td>\n",
       "      <td>NaN</td>\n",
       "      <td>5.4</td>\n",
       "    </tr>\n",
       "  </tbody>\n",
       "</table>\n",
       "</div>"
      ],
      "text/plain": [
       "       Open  Close\n",
       "Jan 1   5.0    NaN\n",
       "Jan 2   5.6    5.2\n",
       "Jan 3   5.2    5.7\n",
       "Jan 4   NaN    5.4"
      ]
     },
     "execution_count": 57,
     "metadata": {},
     "output_type": "execute_result"
    }
   ],
   "source": [
    "stock_dataframe = pd.DataFrame({'Open': open_prices, 'Close': close_prices})\n",
    "stock_dataframe"
   ]
  },
  {
   "cell_type": "code",
   "execution_count": 59,
   "metadata": {},
   "outputs": [
    {
     "data": {
      "text/html": [
       "<div>\n",
       "<style scoped>\n",
       "    .dataframe tbody tr th:only-of-type {\n",
       "        vertical-align: middle;\n",
       "    }\n",
       "\n",
       "    .dataframe tbody tr th {\n",
       "        vertical-align: top;\n",
       "    }\n",
       "\n",
       "    .dataframe thead th {\n",
       "        text-align: right;\n",
       "    }\n",
       "</style>\n",
       "<table border=\"1\" class=\"dataframe\">\n",
       "  <thead>\n",
       "    <tr style=\"text-align: right;\">\n",
       "      <th></th>\n",
       "      <th>Date</th>\n",
       "      <th>Open</th>\n",
       "      <th>High</th>\n",
       "      <th>Low</th>\n",
       "      <th>Close</th>\n",
       "      <th>Adj Close</th>\n",
       "      <th>Volume</th>\n",
       "    </tr>\n",
       "  </thead>\n",
       "  <tbody>\n",
       "    <tr>\n",
       "      <td>0</td>\n",
       "      <td>2019-03-12</td>\n",
       "      <td>180.000000</td>\n",
       "      <td>182.669998</td>\n",
       "      <td>179.369995</td>\n",
       "      <td>180.910004</td>\n",
       "      <td>180.910004</td>\n",
       "      <td>32467600</td>\n",
       "    </tr>\n",
       "    <tr>\n",
       "      <td>1</td>\n",
       "      <td>2019-03-13</td>\n",
       "      <td>182.250000</td>\n",
       "      <td>183.300003</td>\n",
       "      <td>180.919998</td>\n",
       "      <td>181.710007</td>\n",
       "      <td>181.710007</td>\n",
       "      <td>31032500</td>\n",
       "    </tr>\n",
       "    <tr>\n",
       "      <td>2</td>\n",
       "      <td>2019-03-14</td>\n",
       "      <td>183.899994</td>\n",
       "      <td>184.100006</td>\n",
       "      <td>182.559998</td>\n",
       "      <td>183.729996</td>\n",
       "      <td>183.729996</td>\n",
       "      <td>23579500</td>\n",
       "    </tr>\n",
       "    <tr>\n",
       "      <td>3</td>\n",
       "      <td>2019-03-15</td>\n",
       "      <td>184.850006</td>\n",
       "      <td>187.330002</td>\n",
       "      <td>183.740005</td>\n",
       "      <td>186.119995</td>\n",
       "      <td>186.119995</td>\n",
       "      <td>39042900</td>\n",
       "    </tr>\n",
       "    <tr>\n",
       "      <td>4</td>\n",
       "      <td>2019-03-18</td>\n",
       "      <td>185.800003</td>\n",
       "      <td>188.389999</td>\n",
       "      <td>185.789993</td>\n",
       "      <td>188.020004</td>\n",
       "      <td>188.020004</td>\n",
       "      <td>26219800</td>\n",
       "    </tr>\n",
       "    <tr>\n",
       "      <td>5</td>\n",
       "      <td>2019-03-19</td>\n",
       "      <td>188.350006</td>\n",
       "      <td>188.990005</td>\n",
       "      <td>185.919998</td>\n",
       "      <td>186.529999</td>\n",
       "      <td>186.529999</td>\n",
       "      <td>31646400</td>\n",
       "    </tr>\n",
       "    <tr>\n",
       "      <td>6</td>\n",
       "      <td>2019-03-20</td>\n",
       "      <td>186.229996</td>\n",
       "      <td>189.490005</td>\n",
       "      <td>184.729996</td>\n",
       "      <td>188.160004</td>\n",
       "      <td>188.160004</td>\n",
       "      <td>31035200</td>\n",
       "    </tr>\n",
       "    <tr>\n",
       "      <td>7</td>\n",
       "      <td>2019-03-21</td>\n",
       "      <td>190.020004</td>\n",
       "      <td>196.330002</td>\n",
       "      <td>189.809998</td>\n",
       "      <td>195.089996</td>\n",
       "      <td>195.089996</td>\n",
       "      <td>51034200</td>\n",
       "    </tr>\n",
       "    <tr>\n",
       "      <td>8</td>\n",
       "      <td>2019-03-22</td>\n",
       "      <td>195.339996</td>\n",
       "      <td>197.690002</td>\n",
       "      <td>190.779999</td>\n",
       "      <td>191.050003</td>\n",
       "      <td>191.050003</td>\n",
       "      <td>42407700</td>\n",
       "    </tr>\n",
       "    <tr>\n",
       "      <td>9</td>\n",
       "      <td>2019-03-25</td>\n",
       "      <td>191.509995</td>\n",
       "      <td>191.979996</td>\n",
       "      <td>186.600006</td>\n",
       "      <td>188.740005</td>\n",
       "      <td>188.740005</td>\n",
       "      <td>43845300</td>\n",
       "    </tr>\n",
       "    <tr>\n",
       "      <td>10</td>\n",
       "      <td>2019-03-26</td>\n",
       "      <td>191.660004</td>\n",
       "      <td>192.880005</td>\n",
       "      <td>184.580002</td>\n",
       "      <td>186.789993</td>\n",
       "      <td>186.789993</td>\n",
       "      <td>49800500</td>\n",
       "    </tr>\n",
       "    <tr>\n",
       "      <td>11</td>\n",
       "      <td>2019-03-27</td>\n",
       "      <td>188.750000</td>\n",
       "      <td>189.759995</td>\n",
       "      <td>186.550003</td>\n",
       "      <td>188.470001</td>\n",
       "      <td>188.470001</td>\n",
       "      <td>29848400</td>\n",
       "    </tr>\n",
       "    <tr>\n",
       "      <td>12</td>\n",
       "      <td>2019-03-28</td>\n",
       "      <td>188.949997</td>\n",
       "      <td>189.559998</td>\n",
       "      <td>187.529999</td>\n",
       "      <td>188.720001</td>\n",
       "      <td>188.720001</td>\n",
       "      <td>20780400</td>\n",
       "    </tr>\n",
       "    <tr>\n",
       "      <td>13</td>\n",
       "      <td>2019-03-29</td>\n",
       "      <td>189.830002</td>\n",
       "      <td>190.080002</td>\n",
       "      <td>188.539993</td>\n",
       "      <td>189.949997</td>\n",
       "      <td>189.949997</td>\n",
       "      <td>23564000</td>\n",
       "    </tr>\n",
       "    <tr>\n",
       "      <td>14</td>\n",
       "      <td>2019-04-01</td>\n",
       "      <td>191.639999</td>\n",
       "      <td>191.679993</td>\n",
       "      <td>188.380005</td>\n",
       "      <td>191.240005</td>\n",
       "      <td>191.240005</td>\n",
       "      <td>27862000</td>\n",
       "    </tr>\n",
       "    <tr>\n",
       "      <td>15</td>\n",
       "      <td>2019-04-02</td>\n",
       "      <td>191.089996</td>\n",
       "      <td>194.460007</td>\n",
       "      <td>191.050003</td>\n",
       "      <td>194.020004</td>\n",
       "      <td>194.020004</td>\n",
       "      <td>22765700</td>\n",
       "    </tr>\n",
       "    <tr>\n",
       "      <td>16</td>\n",
       "      <td>2019-04-03</td>\n",
       "      <td>193.250000</td>\n",
       "      <td>196.500000</td>\n",
       "      <td>193.149994</td>\n",
       "      <td>195.350006</td>\n",
       "      <td>195.350006</td>\n",
       "      <td>23271800</td>\n",
       "    </tr>\n",
       "    <tr>\n",
       "      <td>17</td>\n",
       "      <td>2019-04-04</td>\n",
       "      <td>194.789993</td>\n",
       "      <td>196.369995</td>\n",
       "      <td>193.139999</td>\n",
       "      <td>195.690002</td>\n",
       "      <td>195.690002</td>\n",
       "      <td>19114300</td>\n",
       "    </tr>\n",
       "    <tr>\n",
       "      <td>18</td>\n",
       "      <td>2019-04-05</td>\n",
       "      <td>196.449997</td>\n",
       "      <td>197.100006</td>\n",
       "      <td>195.929993</td>\n",
       "      <td>197.000000</td>\n",
       "      <td>197.000000</td>\n",
       "      <td>18526600</td>\n",
       "    </tr>\n",
       "    <tr>\n",
       "      <td>19</td>\n",
       "      <td>2019-04-08</td>\n",
       "      <td>196.419998</td>\n",
       "      <td>200.229996</td>\n",
       "      <td>196.339996</td>\n",
       "      <td>200.100006</td>\n",
       "      <td>200.100006</td>\n",
       "      <td>25881700</td>\n",
       "    </tr>\n",
       "    <tr>\n",
       "      <td>20</td>\n",
       "      <td>2019-04-09</td>\n",
       "      <td>200.320007</td>\n",
       "      <td>202.850006</td>\n",
       "      <td>199.229996</td>\n",
       "      <td>199.500000</td>\n",
       "      <td>199.500000</td>\n",
       "      <td>35768200</td>\n",
       "    </tr>\n",
       "    <tr>\n",
       "      <td>21</td>\n",
       "      <td>2019-04-10</td>\n",
       "      <td>198.679993</td>\n",
       "      <td>200.740005</td>\n",
       "      <td>198.179993</td>\n",
       "      <td>200.619995</td>\n",
       "      <td>200.619995</td>\n",
       "      <td>21695300</td>\n",
       "    </tr>\n",
       "    <tr>\n",
       "      <td>22</td>\n",
       "      <td>2019-04-11</td>\n",
       "      <td>200.850006</td>\n",
       "      <td>201.000000</td>\n",
       "      <td>198.440002</td>\n",
       "      <td>198.949997</td>\n",
       "      <td>198.949997</td>\n",
       "      <td>20879100</td>\n",
       "    </tr>\n",
       "  </tbody>\n",
       "</table>\n",
       "</div>"
      ],
      "text/plain": [
       "          Date        Open        High         Low       Close   Adj Close  \\\n",
       "0   2019-03-12  180.000000  182.669998  179.369995  180.910004  180.910004   \n",
       "1   2019-03-13  182.250000  183.300003  180.919998  181.710007  181.710007   \n",
       "2   2019-03-14  183.899994  184.100006  182.559998  183.729996  183.729996   \n",
       "3   2019-03-15  184.850006  187.330002  183.740005  186.119995  186.119995   \n",
       "4   2019-03-18  185.800003  188.389999  185.789993  188.020004  188.020004   \n",
       "5   2019-03-19  188.350006  188.990005  185.919998  186.529999  186.529999   \n",
       "6   2019-03-20  186.229996  189.490005  184.729996  188.160004  188.160004   \n",
       "7   2019-03-21  190.020004  196.330002  189.809998  195.089996  195.089996   \n",
       "8   2019-03-22  195.339996  197.690002  190.779999  191.050003  191.050003   \n",
       "9   2019-03-25  191.509995  191.979996  186.600006  188.740005  188.740005   \n",
       "10  2019-03-26  191.660004  192.880005  184.580002  186.789993  186.789993   \n",
       "11  2019-03-27  188.750000  189.759995  186.550003  188.470001  188.470001   \n",
       "12  2019-03-28  188.949997  189.559998  187.529999  188.720001  188.720001   \n",
       "13  2019-03-29  189.830002  190.080002  188.539993  189.949997  189.949997   \n",
       "14  2019-04-01  191.639999  191.679993  188.380005  191.240005  191.240005   \n",
       "15  2019-04-02  191.089996  194.460007  191.050003  194.020004  194.020004   \n",
       "16  2019-04-03  193.250000  196.500000  193.149994  195.350006  195.350006   \n",
       "17  2019-04-04  194.789993  196.369995  193.139999  195.690002  195.690002   \n",
       "18  2019-04-05  196.449997  197.100006  195.929993  197.000000  197.000000   \n",
       "19  2019-04-08  196.419998  200.229996  196.339996  200.100006  200.100006   \n",
       "20  2019-04-09  200.320007  202.850006  199.229996  199.500000  199.500000   \n",
       "21  2019-04-10  198.679993  200.740005  198.179993  200.619995  200.619995   \n",
       "22  2019-04-11  200.850006  201.000000  198.440002  198.949997  198.949997   \n",
       "\n",
       "      Volume  \n",
       "0   32467600  \n",
       "1   31032500  \n",
       "2   23579500  \n",
       "3   39042900  \n",
       "4   26219800  \n",
       "5   31646400  \n",
       "6   31035200  \n",
       "7   51034200  \n",
       "8   42407700  \n",
       "9   43845300  \n",
       "10  49800500  \n",
       "11  29848400  \n",
       "12  20780400  \n",
       "13  23564000  \n",
       "14  27862000  \n",
       "15  22765700  \n",
       "16  23271800  \n",
       "17  19114300  \n",
       "18  18526600  \n",
       "19  25881700  \n",
       "20  35768200  \n",
       "21  21695300  \n",
       "22  20879100  "
      ]
     },
     "execution_count": 59,
     "metadata": {},
     "output_type": "execute_result"
    }
   ],
   "source": [
    "apple_stock_data = pd.read_csv('AAPL.csv')\n",
    "apple_stock_data"
   ]
  },
  {
   "cell_type": "code",
   "execution_count": 60,
   "metadata": {},
   "outputs": [
    {
     "data": {
      "text/html": [
       "<div>\n",
       "<style scoped>\n",
       "    .dataframe tbody tr th:only-of-type {\n",
       "        vertical-align: middle;\n",
       "    }\n",
       "\n",
       "    .dataframe tbody tr th {\n",
       "        vertical-align: top;\n",
       "    }\n",
       "\n",
       "    .dataframe thead th {\n",
       "        text-align: right;\n",
       "    }\n",
       "</style>\n",
       "<table border=\"1\" class=\"dataframe\">\n",
       "  <thead>\n",
       "    <tr style=\"text-align: right;\">\n",
       "      <th></th>\n",
       "      <th>Open</th>\n",
       "      <th>High</th>\n",
       "      <th>Low</th>\n",
       "      <th>Close</th>\n",
       "      <th>Adj Close</th>\n",
       "      <th>Volume</th>\n",
       "    </tr>\n",
       "    <tr>\n",
       "      <th>Date</th>\n",
       "      <th></th>\n",
       "      <th></th>\n",
       "      <th></th>\n",
       "      <th></th>\n",
       "      <th></th>\n",
       "      <th></th>\n",
       "    </tr>\n",
       "  </thead>\n",
       "  <tbody>\n",
       "    <tr>\n",
       "      <td>2019-03-12</td>\n",
       "      <td>180.000000</td>\n",
       "      <td>182.669998</td>\n",
       "      <td>179.369995</td>\n",
       "      <td>180.910004</td>\n",
       "      <td>180.910004</td>\n",
       "      <td>32467600</td>\n",
       "    </tr>\n",
       "    <tr>\n",
       "      <td>2019-03-13</td>\n",
       "      <td>182.250000</td>\n",
       "      <td>183.300003</td>\n",
       "      <td>180.919998</td>\n",
       "      <td>181.710007</td>\n",
       "      <td>181.710007</td>\n",
       "      <td>31032500</td>\n",
       "    </tr>\n",
       "    <tr>\n",
       "      <td>2019-03-14</td>\n",
       "      <td>183.899994</td>\n",
       "      <td>184.100006</td>\n",
       "      <td>182.559998</td>\n",
       "      <td>183.729996</td>\n",
       "      <td>183.729996</td>\n",
       "      <td>23579500</td>\n",
       "    </tr>\n",
       "    <tr>\n",
       "      <td>2019-03-15</td>\n",
       "      <td>184.850006</td>\n",
       "      <td>187.330002</td>\n",
       "      <td>183.740005</td>\n",
       "      <td>186.119995</td>\n",
       "      <td>186.119995</td>\n",
       "      <td>39042900</td>\n",
       "    </tr>\n",
       "    <tr>\n",
       "      <td>2019-03-18</td>\n",
       "      <td>185.800003</td>\n",
       "      <td>188.389999</td>\n",
       "      <td>185.789993</td>\n",
       "      <td>188.020004</td>\n",
       "      <td>188.020004</td>\n",
       "      <td>26219800</td>\n",
       "    </tr>\n",
       "    <tr>\n",
       "      <td>2019-03-19</td>\n",
       "      <td>188.350006</td>\n",
       "      <td>188.990005</td>\n",
       "      <td>185.919998</td>\n",
       "      <td>186.529999</td>\n",
       "      <td>186.529999</td>\n",
       "      <td>31646400</td>\n",
       "    </tr>\n",
       "    <tr>\n",
       "      <td>2019-03-20</td>\n",
       "      <td>186.229996</td>\n",
       "      <td>189.490005</td>\n",
       "      <td>184.729996</td>\n",
       "      <td>188.160004</td>\n",
       "      <td>188.160004</td>\n",
       "      <td>31035200</td>\n",
       "    </tr>\n",
       "    <tr>\n",
       "      <td>2019-03-21</td>\n",
       "      <td>190.020004</td>\n",
       "      <td>196.330002</td>\n",
       "      <td>189.809998</td>\n",
       "      <td>195.089996</td>\n",
       "      <td>195.089996</td>\n",
       "      <td>51034200</td>\n",
       "    </tr>\n",
       "    <tr>\n",
       "      <td>2019-03-22</td>\n",
       "      <td>195.339996</td>\n",
       "      <td>197.690002</td>\n",
       "      <td>190.779999</td>\n",
       "      <td>191.050003</td>\n",
       "      <td>191.050003</td>\n",
       "      <td>42407700</td>\n",
       "    </tr>\n",
       "    <tr>\n",
       "      <td>2019-03-25</td>\n",
       "      <td>191.509995</td>\n",
       "      <td>191.979996</td>\n",
       "      <td>186.600006</td>\n",
       "      <td>188.740005</td>\n",
       "      <td>188.740005</td>\n",
       "      <td>43845300</td>\n",
       "    </tr>\n",
       "    <tr>\n",
       "      <td>2019-03-26</td>\n",
       "      <td>191.660004</td>\n",
       "      <td>192.880005</td>\n",
       "      <td>184.580002</td>\n",
       "      <td>186.789993</td>\n",
       "      <td>186.789993</td>\n",
       "      <td>49800500</td>\n",
       "    </tr>\n",
       "    <tr>\n",
       "      <td>2019-03-27</td>\n",
       "      <td>188.750000</td>\n",
       "      <td>189.759995</td>\n",
       "      <td>186.550003</td>\n",
       "      <td>188.470001</td>\n",
       "      <td>188.470001</td>\n",
       "      <td>29848400</td>\n",
       "    </tr>\n",
       "    <tr>\n",
       "      <td>2019-03-28</td>\n",
       "      <td>188.949997</td>\n",
       "      <td>189.559998</td>\n",
       "      <td>187.529999</td>\n",
       "      <td>188.720001</td>\n",
       "      <td>188.720001</td>\n",
       "      <td>20780400</td>\n",
       "    </tr>\n",
       "    <tr>\n",
       "      <td>2019-03-29</td>\n",
       "      <td>189.830002</td>\n",
       "      <td>190.080002</td>\n",
       "      <td>188.539993</td>\n",
       "      <td>189.949997</td>\n",
       "      <td>189.949997</td>\n",
       "      <td>23564000</td>\n",
       "    </tr>\n",
       "    <tr>\n",
       "      <td>2019-04-01</td>\n",
       "      <td>191.639999</td>\n",
       "      <td>191.679993</td>\n",
       "      <td>188.380005</td>\n",
       "      <td>191.240005</td>\n",
       "      <td>191.240005</td>\n",
       "      <td>27862000</td>\n",
       "    </tr>\n",
       "    <tr>\n",
       "      <td>2019-04-02</td>\n",
       "      <td>191.089996</td>\n",
       "      <td>194.460007</td>\n",
       "      <td>191.050003</td>\n",
       "      <td>194.020004</td>\n",
       "      <td>194.020004</td>\n",
       "      <td>22765700</td>\n",
       "    </tr>\n",
       "    <tr>\n",
       "      <td>2019-04-03</td>\n",
       "      <td>193.250000</td>\n",
       "      <td>196.500000</td>\n",
       "      <td>193.149994</td>\n",
       "      <td>195.350006</td>\n",
       "      <td>195.350006</td>\n",
       "      <td>23271800</td>\n",
       "    </tr>\n",
       "    <tr>\n",
       "      <td>2019-04-04</td>\n",
       "      <td>194.789993</td>\n",
       "      <td>196.369995</td>\n",
       "      <td>193.139999</td>\n",
       "      <td>195.690002</td>\n",
       "      <td>195.690002</td>\n",
       "      <td>19114300</td>\n",
       "    </tr>\n",
       "    <tr>\n",
       "      <td>2019-04-05</td>\n",
       "      <td>196.449997</td>\n",
       "      <td>197.100006</td>\n",
       "      <td>195.929993</td>\n",
       "      <td>197.000000</td>\n",
       "      <td>197.000000</td>\n",
       "      <td>18526600</td>\n",
       "    </tr>\n",
       "    <tr>\n",
       "      <td>2019-04-08</td>\n",
       "      <td>196.419998</td>\n",
       "      <td>200.229996</td>\n",
       "      <td>196.339996</td>\n",
       "      <td>200.100006</td>\n",
       "      <td>200.100006</td>\n",
       "      <td>25881700</td>\n",
       "    </tr>\n",
       "    <tr>\n",
       "      <td>2019-04-09</td>\n",
       "      <td>200.320007</td>\n",
       "      <td>202.850006</td>\n",
       "      <td>199.229996</td>\n",
       "      <td>199.500000</td>\n",
       "      <td>199.500000</td>\n",
       "      <td>35768200</td>\n",
       "    </tr>\n",
       "    <tr>\n",
       "      <td>2019-04-10</td>\n",
       "      <td>198.679993</td>\n",
       "      <td>200.740005</td>\n",
       "      <td>198.179993</td>\n",
       "      <td>200.619995</td>\n",
       "      <td>200.619995</td>\n",
       "      <td>21695300</td>\n",
       "    </tr>\n",
       "    <tr>\n",
       "      <td>2019-04-11</td>\n",
       "      <td>200.850006</td>\n",
       "      <td>201.000000</td>\n",
       "      <td>198.440002</td>\n",
       "      <td>198.949997</td>\n",
       "      <td>198.949997</td>\n",
       "      <td>20879100</td>\n",
       "    </tr>\n",
       "  </tbody>\n",
       "</table>\n",
       "</div>"
      ],
      "text/plain": [
       "                  Open        High         Low       Close   Adj Close  \\\n",
       "Date                                                                     \n",
       "2019-03-12  180.000000  182.669998  179.369995  180.910004  180.910004   \n",
       "2019-03-13  182.250000  183.300003  180.919998  181.710007  181.710007   \n",
       "2019-03-14  183.899994  184.100006  182.559998  183.729996  183.729996   \n",
       "2019-03-15  184.850006  187.330002  183.740005  186.119995  186.119995   \n",
       "2019-03-18  185.800003  188.389999  185.789993  188.020004  188.020004   \n",
       "2019-03-19  188.350006  188.990005  185.919998  186.529999  186.529999   \n",
       "2019-03-20  186.229996  189.490005  184.729996  188.160004  188.160004   \n",
       "2019-03-21  190.020004  196.330002  189.809998  195.089996  195.089996   \n",
       "2019-03-22  195.339996  197.690002  190.779999  191.050003  191.050003   \n",
       "2019-03-25  191.509995  191.979996  186.600006  188.740005  188.740005   \n",
       "2019-03-26  191.660004  192.880005  184.580002  186.789993  186.789993   \n",
       "2019-03-27  188.750000  189.759995  186.550003  188.470001  188.470001   \n",
       "2019-03-28  188.949997  189.559998  187.529999  188.720001  188.720001   \n",
       "2019-03-29  189.830002  190.080002  188.539993  189.949997  189.949997   \n",
       "2019-04-01  191.639999  191.679993  188.380005  191.240005  191.240005   \n",
       "2019-04-02  191.089996  194.460007  191.050003  194.020004  194.020004   \n",
       "2019-04-03  193.250000  196.500000  193.149994  195.350006  195.350006   \n",
       "2019-04-04  194.789993  196.369995  193.139999  195.690002  195.690002   \n",
       "2019-04-05  196.449997  197.100006  195.929993  197.000000  197.000000   \n",
       "2019-04-08  196.419998  200.229996  196.339996  200.100006  200.100006   \n",
       "2019-04-09  200.320007  202.850006  199.229996  199.500000  199.500000   \n",
       "2019-04-10  198.679993  200.740005  198.179993  200.619995  200.619995   \n",
       "2019-04-11  200.850006  201.000000  198.440002  198.949997  198.949997   \n",
       "\n",
       "              Volume  \n",
       "Date                  \n",
       "2019-03-12  32467600  \n",
       "2019-03-13  31032500  \n",
       "2019-03-14  23579500  \n",
       "2019-03-15  39042900  \n",
       "2019-03-18  26219800  \n",
       "2019-03-19  31646400  \n",
       "2019-03-20  31035200  \n",
       "2019-03-21  51034200  \n",
       "2019-03-22  42407700  \n",
       "2019-03-25  43845300  \n",
       "2019-03-26  49800500  \n",
       "2019-03-27  29848400  \n",
       "2019-03-28  20780400  \n",
       "2019-03-29  23564000  \n",
       "2019-04-01  27862000  \n",
       "2019-04-02  22765700  \n",
       "2019-04-03  23271800  \n",
       "2019-04-04  19114300  \n",
       "2019-04-05  18526600  \n",
       "2019-04-08  25881700  \n",
       "2019-04-09  35768200  \n",
       "2019-04-10  21695300  \n",
       "2019-04-11  20879100  "
      ]
     },
     "execution_count": 60,
     "metadata": {},
     "output_type": "execute_result"
    }
   ],
   "source": [
    "apple_stock_data = pd.read_csv('AAPL.csv', parse_dates=True, index_col='Date')\n",
    "apple_stock_data"
   ]
  },
  {
   "cell_type": "code",
   "execution_count": 62,
   "metadata": {},
   "outputs": [
    {
     "data": {
      "text/html": [
       "<div>\n",
       "<style scoped>\n",
       "    .dataframe tbody tr th:only-of-type {\n",
       "        vertical-align: middle;\n",
       "    }\n",
       "\n",
       "    .dataframe tbody tr th {\n",
       "        vertical-align: top;\n",
       "    }\n",
       "\n",
       "    .dataframe thead th {\n",
       "        text-align: right;\n",
       "    }\n",
       "</style>\n",
       "<table border=\"1\" class=\"dataframe\">\n",
       "  <thead>\n",
       "    <tr style=\"text-align: right;\">\n",
       "      <th></th>\n",
       "      <th>Open</th>\n",
       "      <th>High</th>\n",
       "      <th>Low</th>\n",
       "      <th>Close</th>\n",
       "    </tr>\n",
       "    <tr>\n",
       "      <th>Date</th>\n",
       "      <th></th>\n",
       "      <th></th>\n",
       "      <th></th>\n",
       "      <th></th>\n",
       "    </tr>\n",
       "  </thead>\n",
       "  <tbody>\n",
       "    <tr>\n",
       "      <td>2019-03-12</td>\n",
       "      <td>180.000000</td>\n",
       "      <td>182.669998</td>\n",
       "      <td>179.369995</td>\n",
       "      <td>180.910004</td>\n",
       "    </tr>\n",
       "    <tr>\n",
       "      <td>2019-03-13</td>\n",
       "      <td>182.250000</td>\n",
       "      <td>183.300003</td>\n",
       "      <td>180.919998</td>\n",
       "      <td>181.710007</td>\n",
       "    </tr>\n",
       "    <tr>\n",
       "      <td>2019-03-14</td>\n",
       "      <td>183.899994</td>\n",
       "      <td>184.100006</td>\n",
       "      <td>182.559998</td>\n",
       "      <td>183.729996</td>\n",
       "    </tr>\n",
       "    <tr>\n",
       "      <td>2019-03-15</td>\n",
       "      <td>184.850006</td>\n",
       "      <td>187.330002</td>\n",
       "      <td>183.740005</td>\n",
       "      <td>186.119995</td>\n",
       "    </tr>\n",
       "    <tr>\n",
       "      <td>2019-03-18</td>\n",
       "      <td>185.800003</td>\n",
       "      <td>188.389999</td>\n",
       "      <td>185.789993</td>\n",
       "      <td>188.020004</td>\n",
       "    </tr>\n",
       "    <tr>\n",
       "      <td>2019-03-19</td>\n",
       "      <td>188.350006</td>\n",
       "      <td>188.990005</td>\n",
       "      <td>185.919998</td>\n",
       "      <td>186.529999</td>\n",
       "    </tr>\n",
       "    <tr>\n",
       "      <td>2019-03-20</td>\n",
       "      <td>186.229996</td>\n",
       "      <td>189.490005</td>\n",
       "      <td>184.729996</td>\n",
       "      <td>188.160004</td>\n",
       "    </tr>\n",
       "    <tr>\n",
       "      <td>2019-03-21</td>\n",
       "      <td>190.020004</td>\n",
       "      <td>196.330002</td>\n",
       "      <td>189.809998</td>\n",
       "      <td>195.089996</td>\n",
       "    </tr>\n",
       "    <tr>\n",
       "      <td>2019-03-22</td>\n",
       "      <td>195.339996</td>\n",
       "      <td>197.690002</td>\n",
       "      <td>190.779999</td>\n",
       "      <td>191.050003</td>\n",
       "    </tr>\n",
       "    <tr>\n",
       "      <td>2019-03-25</td>\n",
       "      <td>191.509995</td>\n",
       "      <td>191.979996</td>\n",
       "      <td>186.600006</td>\n",
       "      <td>188.740005</td>\n",
       "    </tr>\n",
       "    <tr>\n",
       "      <td>2019-03-26</td>\n",
       "      <td>191.660004</td>\n",
       "      <td>192.880005</td>\n",
       "      <td>184.580002</td>\n",
       "      <td>186.789993</td>\n",
       "    </tr>\n",
       "    <tr>\n",
       "      <td>2019-03-27</td>\n",
       "      <td>188.750000</td>\n",
       "      <td>189.759995</td>\n",
       "      <td>186.550003</td>\n",
       "      <td>188.470001</td>\n",
       "    </tr>\n",
       "    <tr>\n",
       "      <td>2019-03-28</td>\n",
       "      <td>188.949997</td>\n",
       "      <td>189.559998</td>\n",
       "      <td>187.529999</td>\n",
       "      <td>188.720001</td>\n",
       "    </tr>\n",
       "    <tr>\n",
       "      <td>2019-03-29</td>\n",
       "      <td>189.830002</td>\n",
       "      <td>190.080002</td>\n",
       "      <td>188.539993</td>\n",
       "      <td>189.949997</td>\n",
       "    </tr>\n",
       "    <tr>\n",
       "      <td>2019-04-01</td>\n",
       "      <td>191.639999</td>\n",
       "      <td>191.679993</td>\n",
       "      <td>188.380005</td>\n",
       "      <td>191.240005</td>\n",
       "    </tr>\n",
       "    <tr>\n",
       "      <td>2019-04-02</td>\n",
       "      <td>191.089996</td>\n",
       "      <td>194.460007</td>\n",
       "      <td>191.050003</td>\n",
       "      <td>194.020004</td>\n",
       "    </tr>\n",
       "    <tr>\n",
       "      <td>2019-04-03</td>\n",
       "      <td>193.250000</td>\n",
       "      <td>196.500000</td>\n",
       "      <td>193.149994</td>\n",
       "      <td>195.350006</td>\n",
       "    </tr>\n",
       "    <tr>\n",
       "      <td>2019-04-04</td>\n",
       "      <td>194.789993</td>\n",
       "      <td>196.369995</td>\n",
       "      <td>193.139999</td>\n",
       "      <td>195.690002</td>\n",
       "    </tr>\n",
       "    <tr>\n",
       "      <td>2019-04-05</td>\n",
       "      <td>196.449997</td>\n",
       "      <td>197.100006</td>\n",
       "      <td>195.929993</td>\n",
       "      <td>197.000000</td>\n",
       "    </tr>\n",
       "    <tr>\n",
       "      <td>2019-04-08</td>\n",
       "      <td>196.419998</td>\n",
       "      <td>200.229996</td>\n",
       "      <td>196.339996</td>\n",
       "      <td>200.100006</td>\n",
       "    </tr>\n",
       "    <tr>\n",
       "      <td>2019-04-09</td>\n",
       "      <td>200.320007</td>\n",
       "      <td>202.850006</td>\n",
       "      <td>199.229996</td>\n",
       "      <td>199.500000</td>\n",
       "    </tr>\n",
       "    <tr>\n",
       "      <td>2019-04-10</td>\n",
       "      <td>198.679993</td>\n",
       "      <td>200.740005</td>\n",
       "      <td>198.179993</td>\n",
       "      <td>200.619995</td>\n",
       "    </tr>\n",
       "    <tr>\n",
       "      <td>2019-04-11</td>\n",
       "      <td>200.850006</td>\n",
       "      <td>201.000000</td>\n",
       "      <td>198.440002</td>\n",
       "      <td>198.949997</td>\n",
       "    </tr>\n",
       "  </tbody>\n",
       "</table>\n",
       "</div>"
      ],
      "text/plain": [
       "                  Open        High         Low       Close\n",
       "Date                                                      \n",
       "2019-03-12  180.000000  182.669998  179.369995  180.910004\n",
       "2019-03-13  182.250000  183.300003  180.919998  181.710007\n",
       "2019-03-14  183.899994  184.100006  182.559998  183.729996\n",
       "2019-03-15  184.850006  187.330002  183.740005  186.119995\n",
       "2019-03-18  185.800003  188.389999  185.789993  188.020004\n",
       "2019-03-19  188.350006  188.990005  185.919998  186.529999\n",
       "2019-03-20  186.229996  189.490005  184.729996  188.160004\n",
       "2019-03-21  190.020004  196.330002  189.809998  195.089996\n",
       "2019-03-22  195.339996  197.690002  190.779999  191.050003\n",
       "2019-03-25  191.509995  191.979996  186.600006  188.740005\n",
       "2019-03-26  191.660004  192.880005  184.580002  186.789993\n",
       "2019-03-27  188.750000  189.759995  186.550003  188.470001\n",
       "2019-03-28  188.949997  189.559998  187.529999  188.720001\n",
       "2019-03-29  189.830002  190.080002  188.539993  189.949997\n",
       "2019-04-01  191.639999  191.679993  188.380005  191.240005\n",
       "2019-04-02  191.089996  194.460007  191.050003  194.020004\n",
       "2019-04-03  193.250000  196.500000  193.149994  195.350006\n",
       "2019-04-04  194.789993  196.369995  193.139999  195.690002\n",
       "2019-04-05  196.449997  197.100006  195.929993  197.000000\n",
       "2019-04-08  196.419998  200.229996  196.339996  200.100006\n",
       "2019-04-09  200.320007  202.850006  199.229996  199.500000\n",
       "2019-04-10  198.679993  200.740005  198.179993  200.619995\n",
       "2019-04-11  200.850006  201.000000  198.440002  198.949997"
      ]
     },
     "execution_count": 62,
     "metadata": {},
     "output_type": "execute_result"
    }
   ],
   "source": [
    "apple_stock_data = pd.read_csv('AAPL.csv', \n",
    "                               usecols=['Date', 'Open', 'High', 'Low', 'Close'],\n",
    "                               parse_dates=True, \n",
    "                               index_col='Date')\n",
    "apple_stock_data"
   ]
  },
  {
   "cell_type": "code",
   "execution_count": 63,
   "metadata": {},
   "outputs": [
    {
     "data": {
      "text/plain": [
       "Date\n",
       "2019-03-12    180.910004\n",
       "2019-03-13    181.710007\n",
       "2019-03-14    183.729996\n",
       "2019-03-15    186.119995\n",
       "2019-03-18    188.020004\n",
       "2019-03-19    186.529999\n",
       "2019-03-20    188.160004\n",
       "2019-03-21    195.089996\n",
       "2019-03-22    191.050003\n",
       "2019-03-25    188.740005\n",
       "2019-03-26    186.789993\n",
       "2019-03-27    188.470001\n",
       "2019-03-28    188.720001\n",
       "2019-03-29    189.949997\n",
       "2019-04-01    191.240005\n",
       "2019-04-02    194.020004\n",
       "2019-04-03    195.350006\n",
       "2019-04-04    195.690002\n",
       "2019-04-05    197.000000\n",
       "2019-04-08    200.100006\n",
       "2019-04-09    199.500000\n",
       "2019-04-10    200.619995\n",
       "2019-04-11    198.949997\n",
       "Name: Close, dtype: float64"
      ]
     },
     "execution_count": 63,
     "metadata": {},
     "output_type": "execute_result"
    }
   ],
   "source": [
    "apple_stock_data['Close']"
   ]
  },
  {
   "cell_type": "code",
   "execution_count": 65,
   "metadata": {},
   "outputs": [
    {
     "data": {
      "text/plain": [
       "Open     180.000000\n",
       "High     182.669998\n",
       "Low      179.369995\n",
       "Close    180.910004\n",
       "Name: 2019-03-12 00:00:00, dtype: float64"
      ]
     },
     "execution_count": 65,
     "metadata": {},
     "output_type": "execute_result"
    }
   ],
   "source": [
    "apple_stock_data.loc['2019-03-12']"
   ]
  },
  {
   "cell_type": "code",
   "execution_count": 66,
   "metadata": {},
   "outputs": [
    {
     "data": {
      "text/plain": [
       "Open     180.000000\n",
       "High     182.669998\n",
       "Low      179.369995\n",
       "Close    180.910004\n",
       "Name: 2019-03-12 00:00:00, dtype: float64"
      ]
     },
     "execution_count": 66,
     "metadata": {},
     "output_type": "execute_result"
    }
   ],
   "source": [
    "apple_stock_data.iloc[0]"
   ]
  },
  {
   "cell_type": "code",
   "execution_count": 67,
   "metadata": {},
   "outputs": [
    {
     "data": {
      "text/html": [
       "<div>\n",
       "<style scoped>\n",
       "    .dataframe tbody tr th:only-of-type {\n",
       "        vertical-align: middle;\n",
       "    }\n",
       "\n",
       "    .dataframe tbody tr th {\n",
       "        vertical-align: top;\n",
       "    }\n",
       "\n",
       "    .dataframe thead th {\n",
       "        text-align: right;\n",
       "    }\n",
       "</style>\n",
       "<table border=\"1\" class=\"dataframe\">\n",
       "  <thead>\n",
       "    <tr style=\"text-align: right;\">\n",
       "      <th></th>\n",
       "      <th>Open</th>\n",
       "      <th>High</th>\n",
       "      <th>Low</th>\n",
       "      <th>Close</th>\n",
       "    </tr>\n",
       "    <tr>\n",
       "      <th>Date</th>\n",
       "      <th></th>\n",
       "      <th></th>\n",
       "      <th></th>\n",
       "      <th></th>\n",
       "    </tr>\n",
       "  </thead>\n",
       "  <tbody>\n",
       "    <tr>\n",
       "      <td>2019-03-12</td>\n",
       "      <td>180.000000</td>\n",
       "      <td>182.669998</td>\n",
       "      <td>179.369995</td>\n",
       "      <td>180.910004</td>\n",
       "    </tr>\n",
       "    <tr>\n",
       "      <td>2019-03-13</td>\n",
       "      <td>182.250000</td>\n",
       "      <td>183.300003</td>\n",
       "      <td>180.919998</td>\n",
       "      <td>181.710007</td>\n",
       "    </tr>\n",
       "    <tr>\n",
       "      <td>2019-03-14</td>\n",
       "      <td>183.899994</td>\n",
       "      <td>184.100006</td>\n",
       "      <td>182.559998</td>\n",
       "      <td>183.729996</td>\n",
       "    </tr>\n",
       "    <tr>\n",
       "      <td>2019-03-15</td>\n",
       "      <td>184.850006</td>\n",
       "      <td>187.330002</td>\n",
       "      <td>183.740005</td>\n",
       "      <td>186.119995</td>\n",
       "    </tr>\n",
       "    <tr>\n",
       "      <td>2019-03-18</td>\n",
       "      <td>185.800003</td>\n",
       "      <td>188.389999</td>\n",
       "      <td>185.789993</td>\n",
       "      <td>188.020004</td>\n",
       "    </tr>\n",
       "  </tbody>\n",
       "</table>\n",
       "</div>"
      ],
      "text/plain": [
       "                  Open        High         Low       Close\n",
       "Date                                                      \n",
       "2019-03-12  180.000000  182.669998  179.369995  180.910004\n",
       "2019-03-13  182.250000  183.300003  180.919998  181.710007\n",
       "2019-03-14  183.899994  184.100006  182.559998  183.729996\n",
       "2019-03-15  184.850006  187.330002  183.740005  186.119995\n",
       "2019-03-18  185.800003  188.389999  185.789993  188.020004"
      ]
     },
     "execution_count": 67,
     "metadata": {},
     "output_type": "execute_result"
    }
   ],
   "source": [
    "apple_stock_data.iloc[0:5]"
   ]
  },
  {
   "cell_type": "code",
   "execution_count": 69,
   "metadata": {},
   "outputs": [
    {
     "name": "stdout",
     "output_type": "stream",
     "text": [
      "180.0\n",
      "180.0\n"
     ]
    }
   ],
   "source": [
    "print(apple_stock_data['Open']['2019-03-12'])\n",
    "print(apple_stock_data.loc['2019-03-12']['Open'])"
   ]
  },
  {
   "cell_type": "code",
   "execution_count": 70,
   "metadata": {},
   "outputs": [],
   "source": [
    "first_five = apple_stock_data.iloc[0:5]"
   ]
  },
  {
   "cell_type": "code",
   "execution_count": 71,
   "metadata": {},
   "outputs": [
    {
     "data": {
      "text/html": [
       "<div>\n",
       "<style scoped>\n",
       "    .dataframe tbody tr th:only-of-type {\n",
       "        vertical-align: middle;\n",
       "    }\n",
       "\n",
       "    .dataframe tbody tr th {\n",
       "        vertical-align: top;\n",
       "    }\n",
       "\n",
       "    .dataframe thead th {\n",
       "        text-align: right;\n",
       "    }\n",
       "</style>\n",
       "<table border=\"1\" class=\"dataframe\">\n",
       "  <thead>\n",
       "    <tr style=\"text-align: right;\">\n",
       "      <th></th>\n",
       "      <th>Open</th>\n",
       "      <th>High</th>\n",
       "      <th>Low</th>\n",
       "      <th>Close</th>\n",
       "    </tr>\n",
       "  </thead>\n",
       "  <tbody>\n",
       "    <tr>\n",
       "      <td>count</td>\n",
       "      <td>5.000000</td>\n",
       "      <td>5.000000</td>\n",
       "      <td>5.000000</td>\n",
       "      <td>5.000000</td>\n",
       "    </tr>\n",
       "    <tr>\n",
       "      <td>mean</td>\n",
       "      <td>183.360001</td>\n",
       "      <td>185.158002</td>\n",
       "      <td>182.475998</td>\n",
       "      <td>184.098001</td>\n",
       "    </tr>\n",
       "    <tr>\n",
       "      <td>std</td>\n",
       "      <td>2.290580</td>\n",
       "      <td>2.545833</td>\n",
       "      <td>2.482726</td>\n",
       "      <td>2.977912</td>\n",
       "    </tr>\n",
       "    <tr>\n",
       "      <td>min</td>\n",
       "      <td>180.000000</td>\n",
       "      <td>182.669998</td>\n",
       "      <td>179.369995</td>\n",
       "      <td>180.910004</td>\n",
       "    </tr>\n",
       "    <tr>\n",
       "      <td>25%</td>\n",
       "      <td>182.250000</td>\n",
       "      <td>183.300003</td>\n",
       "      <td>180.919998</td>\n",
       "      <td>181.710007</td>\n",
       "    </tr>\n",
       "    <tr>\n",
       "      <td>50%</td>\n",
       "      <td>183.899994</td>\n",
       "      <td>184.100006</td>\n",
       "      <td>182.559998</td>\n",
       "      <td>183.729996</td>\n",
       "    </tr>\n",
       "    <tr>\n",
       "      <td>75%</td>\n",
       "      <td>184.850006</td>\n",
       "      <td>187.330002</td>\n",
       "      <td>183.740005</td>\n",
       "      <td>186.119995</td>\n",
       "    </tr>\n",
       "    <tr>\n",
       "      <td>max</td>\n",
       "      <td>185.800003</td>\n",
       "      <td>188.389999</td>\n",
       "      <td>185.789993</td>\n",
       "      <td>188.020004</td>\n",
       "    </tr>\n",
       "  </tbody>\n",
       "</table>\n",
       "</div>"
      ],
      "text/plain": [
       "             Open        High         Low       Close\n",
       "count    5.000000    5.000000    5.000000    5.000000\n",
       "mean   183.360001  185.158002  182.475998  184.098001\n",
       "std      2.290580    2.545833    2.482726    2.977912\n",
       "min    180.000000  182.669998  179.369995  180.910004\n",
       "25%    182.250000  183.300003  180.919998  181.710007\n",
       "50%    183.899994  184.100006  182.559998  183.729996\n",
       "75%    184.850006  187.330002  183.740005  186.119995\n",
       "max    185.800003  188.389999  185.789993  188.020004"
      ]
     },
     "execution_count": 71,
     "metadata": {},
     "output_type": "execute_result"
    }
   ],
   "source": [
    "first_five.describe()"
   ]
  },
  {
   "cell_type": "code",
   "execution_count": 73,
   "metadata": {},
   "outputs": [
    {
     "data": {
      "text/plain": [
       "Open     185.800003\n",
       "High     188.389999\n",
       "Low      185.789993\n",
       "Close    188.020004\n",
       "dtype: float64"
      ]
     },
     "execution_count": 73,
     "metadata": {},
     "output_type": "execute_result"
    }
   ],
   "source": [
    "first_five.max()"
   ]
  },
  {
   "cell_type": "code",
   "execution_count": 74,
   "metadata": {},
   "outputs": [
    {
     "data": {
      "text/plain": [
       "Open     185.800003\n",
       "High     188.389999\n",
       "Low      185.789993\n",
       "Close    188.020004\n",
       "dtype: float64"
      ]
     },
     "execution_count": 74,
     "metadata": {},
     "output_type": "execute_result"
    }
   ],
   "source": [
    "# returns max based on column (default)\n",
    "first_five.max(axis=0)"
   ]
  },
  {
   "cell_type": "code",
   "execution_count": 75,
   "metadata": {},
   "outputs": [
    {
     "data": {
      "text/plain": [
       "Date\n",
       "2019-03-12    182.669998\n",
       "2019-03-13    183.300003\n",
       "2019-03-14    184.100006\n",
       "2019-03-15    187.330002\n",
       "2019-03-18    188.389999\n",
       "dtype: float64"
      ]
     },
     "execution_count": 75,
     "metadata": {},
     "output_type": "execute_result"
    }
   ],
   "source": [
    "# returns max based on row\n",
    "first_five.max(axis=1)"
   ]
  },
  {
   "cell_type": "code",
   "execution_count": null,
   "metadata": {},
   "outputs": [],
   "source": []
  }
 ],
 "metadata": {
  "kernelspec": {
   "display_name": "Python 3",
   "language": "python",
   "name": "python3"
  },
  "language_info": {
   "codemirror_mode": {
    "name": "ipython",
    "version": 3
   },
   "file_extension": ".py",
   "mimetype": "text/x-python",
   "name": "python",
   "nbconvert_exporter": "python",
   "pygments_lexer": "ipython3",
   "version": "3.7.4"
  }
 },
 "nbformat": 4,
 "nbformat_minor": 2
}
